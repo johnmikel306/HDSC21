{
  "nbformat": 4,
  "nbformat_minor": 0,
  "metadata": {
    "colab": {
      "name": "Quiz on energy consumption.ipynb",
      "provenance": [],
      "authorship_tag": "ABX9TyMQgnRUYRrfpGBkuI6vd68l",
      "include_colab_link": true
    },
    "kernelspec": {
      "name": "python3",
      "display_name": "Python 3"
    }
  },
  "cells": [
    {
      "cell_type": "markdown",
      "metadata": {
        "id": "view-in-github",
        "colab_type": "text"
      },
      "source": [
        "<a href=\"https://colab.research.google.com/github/SamyySwift/Hamoye_Internship/blob/master/Quiz_on_energy_consumption.ipynb\" target=\"_parent\"><img src=\"https://colab.research.google.com/assets/colab-badge.svg\" alt=\"Open In Colab\"/></a>"
      ]
    },
    {
      "cell_type": "markdown",
      "metadata": {
        "id": "RBbgHnL0Nvr1",
        "colab_type": "text"
      },
      "source": [
        "#Problem Definition: \n",
        "Given the dataset, Appliances Energy Consumption,  we are to develop a multiple linear regression model that can predict new energy consumption of an appliance when given new test data. To answer some questions, we will need to normalize the dataset using the MinMaxScaler after removing the following columns: [“date”, “lights”]. The target variable is “Appliances”. Use a 70-30 train-test set split with a  random state of 42 (for reproducibility)."
      ]
    },
    {
      "cell_type": "markdown",
      "metadata": {
        "id": "_8ievPNQPHw7",
        "colab_type": "text"
      },
      "source": [
        "## Importing Libraries"
      ]
    },
    {
      "cell_type": "code",
      "metadata": {
        "id": "IJagF2cOV7HN",
        "colab_type": "code",
        "colab": {}
      },
      "source": [
        "# importing required libraries for data manipulation and data wrangling\n",
        "\n",
        "import pandas as pd\n",
        "import matplotlib.pyplot  as plt\n",
        "import numpy as np\n",
        "import seaborn as sns\n",
        "from sklearn.model_selection import train_test_split\n",
        "from sklearn.preprocessing import MinMaxScaler\n",
        "\n",
        "\n",
        "# Importing required libraries for modelling and model evaluation\n",
        "\n",
        "from sklearn.linear_model import Ridge, Lasso, LinearRegression\n",
        "from sklearn.metrics import mean_absolute_error, mean_squared_error, r2_score"
      ],
      "execution_count": 150,
      "outputs": []
    },
    {
      "cell_type": "markdown",
      "metadata": {
        "id": "cHUnKfMrPSS3",
        "colab_type": "text"
      },
      "source": [
        "## Loading the Dataset"
      ]
    },
    {
      "cell_type": "code",
      "metadata": {
        "id": "MD5OVzihVe_D",
        "colab_type": "code",
        "colab": {
          "base_uri": "https://localhost:8080/",
          "height": 384
        },
        "outputId": "290f5720-1537-4553-b39b-43c121578ca0"
      },
      "source": [
        "# loading the dataset\n",
        "df = pd.read_csv('energydata_complete.csv')\n",
        "df.head()"
      ],
      "execution_count": 73,
      "outputs": [
        {
          "output_type": "execute_result",
          "data": {
            "text/html": [
              "<div>\n",
              "<style scoped>\n",
              "    .dataframe tbody tr th:only-of-type {\n",
              "        vertical-align: middle;\n",
              "    }\n",
              "\n",
              "    .dataframe tbody tr th {\n",
              "        vertical-align: top;\n",
              "    }\n",
              "\n",
              "    .dataframe thead th {\n",
              "        text-align: right;\n",
              "    }\n",
              "</style>\n",
              "<table border=\"1\" class=\"dataframe\">\n",
              "  <thead>\n",
              "    <tr style=\"text-align: right;\">\n",
              "      <th></th>\n",
              "      <th>date</th>\n",
              "      <th>Appliances</th>\n",
              "      <th>lights</th>\n",
              "      <th>T1</th>\n",
              "      <th>RH_1</th>\n",
              "      <th>T2</th>\n",
              "      <th>RH_2</th>\n",
              "      <th>T3</th>\n",
              "      <th>RH_3</th>\n",
              "      <th>T4</th>\n",
              "      <th>RH_4</th>\n",
              "      <th>T5</th>\n",
              "      <th>RH_5</th>\n",
              "      <th>T6</th>\n",
              "      <th>RH_6</th>\n",
              "      <th>T7</th>\n",
              "      <th>RH_7</th>\n",
              "      <th>T8</th>\n",
              "      <th>RH_8</th>\n",
              "      <th>T9</th>\n",
              "      <th>RH_9</th>\n",
              "      <th>T_out</th>\n",
              "      <th>Press_mm_hg</th>\n",
              "      <th>RH_out</th>\n",
              "      <th>Windspeed</th>\n",
              "      <th>Visibility</th>\n",
              "      <th>Tdewpoint</th>\n",
              "      <th>rv1</th>\n",
              "      <th>rv2</th>\n",
              "    </tr>\n",
              "  </thead>\n",
              "  <tbody>\n",
              "    <tr>\n",
              "      <th>0</th>\n",
              "      <td>2016-01-11 17:00:00</td>\n",
              "      <td>60</td>\n",
              "      <td>30</td>\n",
              "      <td>19.89</td>\n",
              "      <td>47.596667</td>\n",
              "      <td>19.2</td>\n",
              "      <td>44.790000</td>\n",
              "      <td>19.79</td>\n",
              "      <td>44.730000</td>\n",
              "      <td>19.000000</td>\n",
              "      <td>45.566667</td>\n",
              "      <td>17.166667</td>\n",
              "      <td>55.20</td>\n",
              "      <td>7.026667</td>\n",
              "      <td>84.256667</td>\n",
              "      <td>17.200000</td>\n",
              "      <td>41.626667</td>\n",
              "      <td>18.2</td>\n",
              "      <td>48.900000</td>\n",
              "      <td>17.033333</td>\n",
              "      <td>45.53</td>\n",
              "      <td>6.600000</td>\n",
              "      <td>733.5</td>\n",
              "      <td>92.0</td>\n",
              "      <td>7.000000</td>\n",
              "      <td>63.000000</td>\n",
              "      <td>5.3</td>\n",
              "      <td>13.275433</td>\n",
              "      <td>13.275433</td>\n",
              "    </tr>\n",
              "    <tr>\n",
              "      <th>1</th>\n",
              "      <td>2016-01-11 17:10:00</td>\n",
              "      <td>60</td>\n",
              "      <td>30</td>\n",
              "      <td>19.89</td>\n",
              "      <td>46.693333</td>\n",
              "      <td>19.2</td>\n",
              "      <td>44.722500</td>\n",
              "      <td>19.79</td>\n",
              "      <td>44.790000</td>\n",
              "      <td>19.000000</td>\n",
              "      <td>45.992500</td>\n",
              "      <td>17.166667</td>\n",
              "      <td>55.20</td>\n",
              "      <td>6.833333</td>\n",
              "      <td>84.063333</td>\n",
              "      <td>17.200000</td>\n",
              "      <td>41.560000</td>\n",
              "      <td>18.2</td>\n",
              "      <td>48.863333</td>\n",
              "      <td>17.066667</td>\n",
              "      <td>45.56</td>\n",
              "      <td>6.483333</td>\n",
              "      <td>733.6</td>\n",
              "      <td>92.0</td>\n",
              "      <td>6.666667</td>\n",
              "      <td>59.166667</td>\n",
              "      <td>5.2</td>\n",
              "      <td>18.606195</td>\n",
              "      <td>18.606195</td>\n",
              "    </tr>\n",
              "    <tr>\n",
              "      <th>2</th>\n",
              "      <td>2016-01-11 17:20:00</td>\n",
              "      <td>50</td>\n",
              "      <td>30</td>\n",
              "      <td>19.89</td>\n",
              "      <td>46.300000</td>\n",
              "      <td>19.2</td>\n",
              "      <td>44.626667</td>\n",
              "      <td>19.79</td>\n",
              "      <td>44.933333</td>\n",
              "      <td>18.926667</td>\n",
              "      <td>45.890000</td>\n",
              "      <td>17.166667</td>\n",
              "      <td>55.09</td>\n",
              "      <td>6.560000</td>\n",
              "      <td>83.156667</td>\n",
              "      <td>17.200000</td>\n",
              "      <td>41.433333</td>\n",
              "      <td>18.2</td>\n",
              "      <td>48.730000</td>\n",
              "      <td>17.000000</td>\n",
              "      <td>45.50</td>\n",
              "      <td>6.366667</td>\n",
              "      <td>733.7</td>\n",
              "      <td>92.0</td>\n",
              "      <td>6.333333</td>\n",
              "      <td>55.333333</td>\n",
              "      <td>5.1</td>\n",
              "      <td>28.642668</td>\n",
              "      <td>28.642668</td>\n",
              "    </tr>\n",
              "    <tr>\n",
              "      <th>3</th>\n",
              "      <td>2016-01-11 17:30:00</td>\n",
              "      <td>50</td>\n",
              "      <td>40</td>\n",
              "      <td>19.89</td>\n",
              "      <td>46.066667</td>\n",
              "      <td>19.2</td>\n",
              "      <td>44.590000</td>\n",
              "      <td>19.79</td>\n",
              "      <td>45.000000</td>\n",
              "      <td>18.890000</td>\n",
              "      <td>45.723333</td>\n",
              "      <td>17.166667</td>\n",
              "      <td>55.09</td>\n",
              "      <td>6.433333</td>\n",
              "      <td>83.423333</td>\n",
              "      <td>17.133333</td>\n",
              "      <td>41.290000</td>\n",
              "      <td>18.1</td>\n",
              "      <td>48.590000</td>\n",
              "      <td>17.000000</td>\n",
              "      <td>45.40</td>\n",
              "      <td>6.250000</td>\n",
              "      <td>733.8</td>\n",
              "      <td>92.0</td>\n",
              "      <td>6.000000</td>\n",
              "      <td>51.500000</td>\n",
              "      <td>5.0</td>\n",
              "      <td>45.410389</td>\n",
              "      <td>45.410389</td>\n",
              "    </tr>\n",
              "    <tr>\n",
              "      <th>4</th>\n",
              "      <td>2016-01-11 17:40:00</td>\n",
              "      <td>60</td>\n",
              "      <td>40</td>\n",
              "      <td>19.89</td>\n",
              "      <td>46.333333</td>\n",
              "      <td>19.2</td>\n",
              "      <td>44.530000</td>\n",
              "      <td>19.79</td>\n",
              "      <td>45.000000</td>\n",
              "      <td>18.890000</td>\n",
              "      <td>45.530000</td>\n",
              "      <td>17.200000</td>\n",
              "      <td>55.09</td>\n",
              "      <td>6.366667</td>\n",
              "      <td>84.893333</td>\n",
              "      <td>17.200000</td>\n",
              "      <td>41.230000</td>\n",
              "      <td>18.1</td>\n",
              "      <td>48.590000</td>\n",
              "      <td>17.000000</td>\n",
              "      <td>45.40</td>\n",
              "      <td>6.133333</td>\n",
              "      <td>733.9</td>\n",
              "      <td>92.0</td>\n",
              "      <td>5.666667</td>\n",
              "      <td>47.666667</td>\n",
              "      <td>4.9</td>\n",
              "      <td>10.084097</td>\n",
              "      <td>10.084097</td>\n",
              "    </tr>\n",
              "  </tbody>\n",
              "</table>\n",
              "</div>"
            ],
            "text/plain": [
              "                  date  Appliances  lights  ...  Tdewpoint        rv1        rv2\n",
              "0  2016-01-11 17:00:00          60      30  ...        5.3  13.275433  13.275433\n",
              "1  2016-01-11 17:10:00          60      30  ...        5.2  18.606195  18.606195\n",
              "2  2016-01-11 17:20:00          50      30  ...        5.1  28.642668  28.642668\n",
              "3  2016-01-11 17:30:00          50      40  ...        5.0  45.410389  45.410389\n",
              "4  2016-01-11 17:40:00          60      40  ...        4.9  10.084097  10.084097\n",
              "\n",
              "[5 rows x 29 columns]"
            ]
          },
          "metadata": {
            "tags": []
          },
          "execution_count": 73
        }
      ]
    },
    {
      "cell_type": "markdown",
      "metadata": {
        "id": "cldRMEGwPYZ9",
        "colab_type": "text"
      },
      "source": [
        "## Descriptive summary of the dataset"
      ]
    },
    {
      "cell_type": "code",
      "metadata": {
        "id": "TA3DSDIyilXS",
        "colab_type": "code",
        "colab": {
          "base_uri": "https://localhost:8080/",
          "height": 307
        },
        "outputId": "2af7c819-67bb-4e7e-bbe2-e9cbe0d96f83"
      },
      "source": [
        "# descriptive summary of the data\n",
        "\n",
        "df.describe()"
      ],
      "execution_count": 74,
      "outputs": [
        {
          "output_type": "execute_result",
          "data": {
            "text/html": [
              "<div>\n",
              "<style scoped>\n",
              "    .dataframe tbody tr th:only-of-type {\n",
              "        vertical-align: middle;\n",
              "    }\n",
              "\n",
              "    .dataframe tbody tr th {\n",
              "        vertical-align: top;\n",
              "    }\n",
              "\n",
              "    .dataframe thead th {\n",
              "        text-align: right;\n",
              "    }\n",
              "</style>\n",
              "<table border=\"1\" class=\"dataframe\">\n",
              "  <thead>\n",
              "    <tr style=\"text-align: right;\">\n",
              "      <th></th>\n",
              "      <th>Appliances</th>\n",
              "      <th>lights</th>\n",
              "      <th>T1</th>\n",
              "      <th>RH_1</th>\n",
              "      <th>T2</th>\n",
              "      <th>RH_2</th>\n",
              "      <th>T3</th>\n",
              "      <th>RH_3</th>\n",
              "      <th>T4</th>\n",
              "      <th>RH_4</th>\n",
              "      <th>T5</th>\n",
              "      <th>RH_5</th>\n",
              "      <th>T6</th>\n",
              "      <th>RH_6</th>\n",
              "      <th>T7</th>\n",
              "      <th>RH_7</th>\n",
              "      <th>T8</th>\n",
              "      <th>RH_8</th>\n",
              "      <th>T9</th>\n",
              "      <th>RH_9</th>\n",
              "      <th>T_out</th>\n",
              "      <th>Press_mm_hg</th>\n",
              "      <th>RH_out</th>\n",
              "      <th>Windspeed</th>\n",
              "      <th>Visibility</th>\n",
              "      <th>Tdewpoint</th>\n",
              "      <th>rv1</th>\n",
              "      <th>rv2</th>\n",
              "    </tr>\n",
              "  </thead>\n",
              "  <tbody>\n",
              "    <tr>\n",
              "      <th>count</th>\n",
              "      <td>19735.000000</td>\n",
              "      <td>19735.000000</td>\n",
              "      <td>19735.000000</td>\n",
              "      <td>19735.000000</td>\n",
              "      <td>19735.000000</td>\n",
              "      <td>19735.000000</td>\n",
              "      <td>19735.000000</td>\n",
              "      <td>19735.000000</td>\n",
              "      <td>19735.000000</td>\n",
              "      <td>19735.000000</td>\n",
              "      <td>19735.000000</td>\n",
              "      <td>19735.000000</td>\n",
              "      <td>19735.000000</td>\n",
              "      <td>19735.000000</td>\n",
              "      <td>19735.000000</td>\n",
              "      <td>19735.000000</td>\n",
              "      <td>19735.000000</td>\n",
              "      <td>19735.000000</td>\n",
              "      <td>19735.000000</td>\n",
              "      <td>19735.000000</td>\n",
              "      <td>19735.000000</td>\n",
              "      <td>19735.000000</td>\n",
              "      <td>19735.000000</td>\n",
              "      <td>19735.000000</td>\n",
              "      <td>19735.000000</td>\n",
              "      <td>19735.000000</td>\n",
              "      <td>19735.000000</td>\n",
              "      <td>19735.000000</td>\n",
              "    </tr>\n",
              "    <tr>\n",
              "      <th>mean</th>\n",
              "      <td>97.694958</td>\n",
              "      <td>3.801875</td>\n",
              "      <td>21.686571</td>\n",
              "      <td>40.259739</td>\n",
              "      <td>20.341219</td>\n",
              "      <td>40.420420</td>\n",
              "      <td>22.267611</td>\n",
              "      <td>39.242500</td>\n",
              "      <td>20.855335</td>\n",
              "      <td>39.026904</td>\n",
              "      <td>19.592106</td>\n",
              "      <td>50.949283</td>\n",
              "      <td>7.910939</td>\n",
              "      <td>54.609083</td>\n",
              "      <td>20.267106</td>\n",
              "      <td>35.388200</td>\n",
              "      <td>22.029107</td>\n",
              "      <td>42.936165</td>\n",
              "      <td>19.485828</td>\n",
              "      <td>41.552401</td>\n",
              "      <td>7.411665</td>\n",
              "      <td>755.522602</td>\n",
              "      <td>79.750418</td>\n",
              "      <td>4.039752</td>\n",
              "      <td>38.330834</td>\n",
              "      <td>3.760707</td>\n",
              "      <td>24.988033</td>\n",
              "      <td>24.988033</td>\n",
              "    </tr>\n",
              "    <tr>\n",
              "      <th>std</th>\n",
              "      <td>102.524891</td>\n",
              "      <td>7.935988</td>\n",
              "      <td>1.606066</td>\n",
              "      <td>3.979299</td>\n",
              "      <td>2.192974</td>\n",
              "      <td>4.069813</td>\n",
              "      <td>2.006111</td>\n",
              "      <td>3.254576</td>\n",
              "      <td>2.042884</td>\n",
              "      <td>4.341321</td>\n",
              "      <td>1.844623</td>\n",
              "      <td>9.022034</td>\n",
              "      <td>6.090347</td>\n",
              "      <td>31.149806</td>\n",
              "      <td>2.109993</td>\n",
              "      <td>5.114208</td>\n",
              "      <td>1.956162</td>\n",
              "      <td>5.224361</td>\n",
              "      <td>2.014712</td>\n",
              "      <td>4.151497</td>\n",
              "      <td>5.317409</td>\n",
              "      <td>7.399441</td>\n",
              "      <td>14.901088</td>\n",
              "      <td>2.451221</td>\n",
              "      <td>11.794719</td>\n",
              "      <td>4.194648</td>\n",
              "      <td>14.496634</td>\n",
              "      <td>14.496634</td>\n",
              "    </tr>\n",
              "    <tr>\n",
              "      <th>min</th>\n",
              "      <td>10.000000</td>\n",
              "      <td>0.000000</td>\n",
              "      <td>16.790000</td>\n",
              "      <td>27.023333</td>\n",
              "      <td>16.100000</td>\n",
              "      <td>20.463333</td>\n",
              "      <td>17.200000</td>\n",
              "      <td>28.766667</td>\n",
              "      <td>15.100000</td>\n",
              "      <td>27.660000</td>\n",
              "      <td>15.330000</td>\n",
              "      <td>29.815000</td>\n",
              "      <td>-6.065000</td>\n",
              "      <td>1.000000</td>\n",
              "      <td>15.390000</td>\n",
              "      <td>23.200000</td>\n",
              "      <td>16.306667</td>\n",
              "      <td>29.600000</td>\n",
              "      <td>14.890000</td>\n",
              "      <td>29.166667</td>\n",
              "      <td>-5.000000</td>\n",
              "      <td>729.300000</td>\n",
              "      <td>24.000000</td>\n",
              "      <td>0.000000</td>\n",
              "      <td>1.000000</td>\n",
              "      <td>-6.600000</td>\n",
              "      <td>0.005322</td>\n",
              "      <td>0.005322</td>\n",
              "    </tr>\n",
              "    <tr>\n",
              "      <th>25%</th>\n",
              "      <td>50.000000</td>\n",
              "      <td>0.000000</td>\n",
              "      <td>20.760000</td>\n",
              "      <td>37.333333</td>\n",
              "      <td>18.790000</td>\n",
              "      <td>37.900000</td>\n",
              "      <td>20.790000</td>\n",
              "      <td>36.900000</td>\n",
              "      <td>19.530000</td>\n",
              "      <td>35.530000</td>\n",
              "      <td>18.277500</td>\n",
              "      <td>45.400000</td>\n",
              "      <td>3.626667</td>\n",
              "      <td>30.025000</td>\n",
              "      <td>18.700000</td>\n",
              "      <td>31.500000</td>\n",
              "      <td>20.790000</td>\n",
              "      <td>39.066667</td>\n",
              "      <td>18.000000</td>\n",
              "      <td>38.500000</td>\n",
              "      <td>3.666667</td>\n",
              "      <td>750.933333</td>\n",
              "      <td>70.333333</td>\n",
              "      <td>2.000000</td>\n",
              "      <td>29.000000</td>\n",
              "      <td>0.900000</td>\n",
              "      <td>12.497889</td>\n",
              "      <td>12.497889</td>\n",
              "    </tr>\n",
              "    <tr>\n",
              "      <th>50%</th>\n",
              "      <td>60.000000</td>\n",
              "      <td>0.000000</td>\n",
              "      <td>21.600000</td>\n",
              "      <td>39.656667</td>\n",
              "      <td>20.000000</td>\n",
              "      <td>40.500000</td>\n",
              "      <td>22.100000</td>\n",
              "      <td>38.530000</td>\n",
              "      <td>20.666667</td>\n",
              "      <td>38.400000</td>\n",
              "      <td>19.390000</td>\n",
              "      <td>49.090000</td>\n",
              "      <td>7.300000</td>\n",
              "      <td>55.290000</td>\n",
              "      <td>20.033333</td>\n",
              "      <td>34.863333</td>\n",
              "      <td>22.100000</td>\n",
              "      <td>42.375000</td>\n",
              "      <td>19.390000</td>\n",
              "      <td>40.900000</td>\n",
              "      <td>6.916667</td>\n",
              "      <td>756.100000</td>\n",
              "      <td>83.666667</td>\n",
              "      <td>3.666667</td>\n",
              "      <td>40.000000</td>\n",
              "      <td>3.433333</td>\n",
              "      <td>24.897653</td>\n",
              "      <td>24.897653</td>\n",
              "    </tr>\n",
              "    <tr>\n",
              "      <th>75%</th>\n",
              "      <td>100.000000</td>\n",
              "      <td>0.000000</td>\n",
              "      <td>22.600000</td>\n",
              "      <td>43.066667</td>\n",
              "      <td>21.500000</td>\n",
              "      <td>43.260000</td>\n",
              "      <td>23.290000</td>\n",
              "      <td>41.760000</td>\n",
              "      <td>22.100000</td>\n",
              "      <td>42.156667</td>\n",
              "      <td>20.619643</td>\n",
              "      <td>53.663333</td>\n",
              "      <td>11.256000</td>\n",
              "      <td>83.226667</td>\n",
              "      <td>21.600000</td>\n",
              "      <td>39.000000</td>\n",
              "      <td>23.390000</td>\n",
              "      <td>46.536000</td>\n",
              "      <td>20.600000</td>\n",
              "      <td>44.338095</td>\n",
              "      <td>10.408333</td>\n",
              "      <td>760.933333</td>\n",
              "      <td>91.666667</td>\n",
              "      <td>5.500000</td>\n",
              "      <td>40.000000</td>\n",
              "      <td>6.566667</td>\n",
              "      <td>37.583769</td>\n",
              "      <td>37.583769</td>\n",
              "    </tr>\n",
              "    <tr>\n",
              "      <th>max</th>\n",
              "      <td>1080.000000</td>\n",
              "      <td>70.000000</td>\n",
              "      <td>26.260000</td>\n",
              "      <td>63.360000</td>\n",
              "      <td>29.856667</td>\n",
              "      <td>56.026667</td>\n",
              "      <td>29.236000</td>\n",
              "      <td>50.163333</td>\n",
              "      <td>26.200000</td>\n",
              "      <td>51.090000</td>\n",
              "      <td>25.795000</td>\n",
              "      <td>96.321667</td>\n",
              "      <td>28.290000</td>\n",
              "      <td>99.900000</td>\n",
              "      <td>26.000000</td>\n",
              "      <td>51.400000</td>\n",
              "      <td>27.230000</td>\n",
              "      <td>58.780000</td>\n",
              "      <td>24.500000</td>\n",
              "      <td>53.326667</td>\n",
              "      <td>26.100000</td>\n",
              "      <td>772.300000</td>\n",
              "      <td>100.000000</td>\n",
              "      <td>14.000000</td>\n",
              "      <td>66.000000</td>\n",
              "      <td>15.500000</td>\n",
              "      <td>49.996530</td>\n",
              "      <td>49.996530</td>\n",
              "    </tr>\n",
              "  </tbody>\n",
              "</table>\n",
              "</div>"
            ],
            "text/plain": [
              "         Appliances        lights  ...           rv1           rv2\n",
              "count  19735.000000  19735.000000  ...  19735.000000  19735.000000\n",
              "mean      97.694958      3.801875  ...     24.988033     24.988033\n",
              "std      102.524891      7.935988  ...     14.496634     14.496634\n",
              "min       10.000000      0.000000  ...      0.005322      0.005322\n",
              "25%       50.000000      0.000000  ...     12.497889     12.497889\n",
              "50%       60.000000      0.000000  ...     24.897653     24.897653\n",
              "75%      100.000000      0.000000  ...     37.583769     37.583769\n",
              "max     1080.000000     70.000000  ...     49.996530     49.996530\n",
              "\n",
              "[8 rows x 28 columns]"
            ]
          },
          "metadata": {
            "tags": []
          },
          "execution_count": 74
        }
      ]
    },
    {
      "cell_type": "markdown",
      "metadata": {
        "id": "r1Q8R_uuPfsQ",
        "colab_type": "text"
      },
      "source": [
        "## Data Wrangling"
      ]
    },
    {
      "cell_type": "code",
      "metadata": {
        "id": "uxA3H8xdjiU_",
        "colab_type": "code",
        "colab": {}
      },
      "source": [
        "# dropping the lights column since there are more zero entries as seen from the descriptive statistics  above\n",
        "df.drop(['lights'], axis=1,inplace=True)\n",
        "\n",
        "# dropping the date column since its not a time series problem\n",
        "df.drop(['date'], axis=1, inplace=True)"
      ],
      "execution_count": 75,
      "outputs": []
    },
    {
      "cell_type": "markdown",
      "metadata": {
        "id": "f9tbVf3FkXsN",
        "colab_type": "text"
      },
      "source": [
        "#Data Preprocessing"
      ]
    },
    {
      "cell_type": "code",
      "metadata": {
        "id": "CvvCahPljyQj",
        "colab_type": "code",
        "colab": {}
      },
      "source": [
        "# Applying MinMaxScaler to scale the features column \n",
        "\n",
        "# instantiate the scaler\n",
        "scaler = MinMaxScaler()\n",
        "\n",
        "# normalizing the features\n",
        "normalized_features = pd.DataFrame(scaler.fit_transform(df), columns=df.columns)"
      ],
      "execution_count": 76,
      "outputs": []
    },
    {
      "cell_type": "code",
      "metadata": {
        "id": "vG0orL2okrX_",
        "colab_type": "code",
        "colab": {}
      },
      "source": [
        "# splitting data into features(predictors) and target(response) variables\n",
        "\n",
        "# predictors\n",
        "features = normalized_features.drop(['Appliances'], axis=1)\n",
        "\n",
        "# target variable\n",
        "target = normalized_features['Appliances']"
      ],
      "execution_count": 77,
      "outputs": []
    },
    {
      "cell_type": "code",
      "metadata": {
        "id": "uKyQcw-6k-3R",
        "colab_type": "code",
        "colab": {}
      },
      "source": [
        "# splitting data into training and testing set\n",
        "\n",
        "X_train, X_test, y_train, y_test = train_test_split(features, target, test_size = 0.3, random_state = 42)"
      ],
      "execution_count": 78,
      "outputs": []
    },
    {
      "cell_type": "code",
      "metadata": {
        "id": "xGlnd-SSuzZv",
        "colab_type": "code",
        "colab": {}
      },
      "source": [
        "# create a dictionary of different algorithms \n",
        "models = {'Ridge': Ridge(),\n",
        "        'Lasso': Lasso(),\n",
        "        'LinearRegression':LinearRegression()\n",
        "        }\n"
      ],
      "execution_count": 79,
      "outputs": []
    },
    {
      "cell_type": "code",
      "metadata": {
        "id": "37fa9wMvut3U",
        "colab_type": "code",
        "colab": {}
      },
      "source": [
        "# helper funtion to compute the r2_score, RSS, RMSE, MAE, MSE on the testing set\n",
        "\n",
        "def compute_score(models, X_train, X_test, y_train, y_test):\n",
        "    \"\"\"\n",
        "    This function iteratively goes through all the models defined in the dictionary and \n",
        "    computes the r2_score, MSE, MAE and RMSE.\n",
        "    \n",
        "    Parameters: model, training set(X_train), test_set(X_test), train_labels(y_train), and test_labels(y_test).\n",
        "    \n",
        "    Returns: This funtion returns a dataFrame containing calculations of each models.\n",
        "    \"\"\"\n",
        "    \n",
        "    # store properties of each model\n",
        "    model_properties = []\n",
        "    \n",
        "    # loop through the dictionary of models\n",
        "    for reg_name, regressor in models.items():\n",
        "        # empty dict for storing properties of each regression models\n",
        "        reg_dict = {}\n",
        "        # store the name of each model\n",
        "        reg_dict['Name'] = reg_name\n",
        "        # fit the regressor model\n",
        "        regressor.fit(X_train, y_train)\n",
        "        # compute the RSS\n",
        "        reg_dict['RSS'] = round(np.sum(np.square(y_test - regressor.predict(X_test))), 2)\n",
        "        # compute the r2_score\n",
        "        reg_dict['r2_score'] = round(r2_score(y_test, regressor.predict(X_test)), 2)\n",
        "        # compute the MAE\n",
        "        reg_dict['MAE'] = round(mean_absolute_error(y_test, regressor.predict(X_test)), 2)\n",
        "        #compute the mean_squared_error\n",
        "        reg_dict['MSE'] = round(mean_squared_error(y_test, regressor.predict(X_test)), 3)\n",
        "        # compute the RMSE\n",
        "        reg_dict['RMSE'] = round(np.sqrt(mean_squared_error(y_test, regressor.predict(X_test))), 3)\n",
        "        # append the properties of a each regressor to the model_properties list after every iteration\n",
        "        model_properties.append(reg_dict)\n",
        "     \n",
        "    # create a dataframe with a list of all the model properties\n",
        "    summary_df = pd.DataFrame(model_properties)\n",
        "    \n",
        "        \n",
        "    return summary_df\n",
        "        \n",
        "        "
      ],
      "execution_count": 80,
      "outputs": []
    },
    {
      "cell_type": "code",
      "metadata": {
        "id": "wpyzbKwywogn",
        "colab_type": "code",
        "colab": {
          "base_uri": "https://localhost:8080/",
          "height": 137
        },
        "outputId": "597bfea2-8d03-4433-93f4-890b1a461807"
      },
      "source": [
        "# execute the function\n",
        "compute_score(models, X_train, X_test, y_train, y_test)"
      ],
      "execution_count": 81,
      "outputs": [
        {
          "output_type": "execute_result",
          "data": {
            "text/html": [
              "<div>\n",
              "<style scoped>\n",
              "    .dataframe tbody tr th:only-of-type {\n",
              "        vertical-align: middle;\n",
              "    }\n",
              "\n",
              "    .dataframe tbody tr th {\n",
              "        vertical-align: top;\n",
              "    }\n",
              "\n",
              "    .dataframe thead th {\n",
              "        text-align: right;\n",
              "    }\n",
              "</style>\n",
              "<table border=\"1\" class=\"dataframe\">\n",
              "  <thead>\n",
              "    <tr style=\"text-align: right;\">\n",
              "      <th></th>\n",
              "      <th>Name</th>\n",
              "      <th>RSS</th>\n",
              "      <th>r2_score</th>\n",
              "      <th>MAE</th>\n",
              "      <th>MSE</th>\n",
              "      <th>RMSE</th>\n",
              "    </tr>\n",
              "  </thead>\n",
              "  <tbody>\n",
              "    <tr>\n",
              "      <th>0</th>\n",
              "      <td>Ridge</td>\n",
              "      <td>45.42</td>\n",
              "      <td>0.15</td>\n",
              "      <td>0.05</td>\n",
              "      <td>0.008</td>\n",
              "      <td>0.088</td>\n",
              "    </tr>\n",
              "    <tr>\n",
              "      <th>1</th>\n",
              "      <td>Lasso</td>\n",
              "      <td>53.28</td>\n",
              "      <td>-0.00</td>\n",
              "      <td>0.06</td>\n",
              "      <td>0.009</td>\n",
              "      <td>0.095</td>\n",
              "    </tr>\n",
              "    <tr>\n",
              "      <th>2</th>\n",
              "      <td>LinearRegression</td>\n",
              "      <td>45.35</td>\n",
              "      <td>0.15</td>\n",
              "      <td>0.05</td>\n",
              "      <td>0.008</td>\n",
              "      <td>0.088</td>\n",
              "    </tr>\n",
              "  </tbody>\n",
              "</table>\n",
              "</div>"
            ],
            "text/plain": [
              "               Name    RSS  r2_score   MAE    MSE   RMSE\n",
              "0             Ridge  45.42      0.15  0.05  0.008  0.088\n",
              "1             Lasso  53.28     -0.00  0.06  0.009  0.095\n",
              "2  LinearRegression  45.35      0.15  0.05  0.008  0.088"
            ]
          },
          "metadata": {
            "tags": []
          },
          "execution_count": 81
        }
      ]
    },
    {
      "cell_type": "markdown",
      "metadata": {
        "id": "HB9ut-6DlzfO",
        "colab_type": "text"
      },
      "source": [
        "# Quiz Questions"
      ]
    },
    {
      "cell_type": "markdown",
      "metadata": {
        "id": "B49wBgN8xWJn",
        "colab_type": "text"
      },
      "source": [
        "###Question 1 : In the Linear regression, L2 regularization is equivalent to imposing a:\n",
        "\n",
        "###Answer: Gaussian prior."
      ]
    },
    {
      "cell_type": "markdown",
      "metadata": {
        "id": "JzTdHb5MyKdh",
        "colab_type": "text"
      },
      "source": [
        "###Question 2: Cross validation:\n",
        "\n",
        "###Answer: Is quaranteed to prevent overfitting."
      ]
    },
    {
      "cell_type": "markdown",
      "metadata": {
        "id": "gUFfAStZyYR1",
        "colab_type": "text"
      },
      "source": [
        "###Question 3 : Ridge Regression:\n",
        "\n",
        "###Answer: Reduces variance at the expence of higher bias."
      ]
    },
    {
      "cell_type": "markdown",
      "metadata": {
        "id": "3Lnwio1QyqjM",
        "colab_type": "text"
      },
      "source": [
        "###Question 4: In the different terms of the bias-tradeoff, which of the following is substantially more harmful to the test error than the training error?\n",
        "\n",
        "###Answer: Variance."
      ]
    },
    {
      "cell_type": "markdown",
      "metadata": {
        "id": "Caht_v30z42D",
        "colab_type": "text"
      },
      "source": [
        "###Question 5: What can you use to find the best fit line for Linear Regression?\n",
        "\n",
        "###Answer: Least Square Error.(The linear Regression uses the least square methode as its cost funtion adn aims to reduce this cost funtion i.e reducing the distance between the actual point and the line of best fit.)"
      ]
    },
    {
      "cell_type": "markdown",
      "metadata": {
        "id": "YG2lTcl-zryn",
        "colab_type": "text"
      },
      "source": [
        "###Question 6: Which of the following is true about outliers in linear regression?\n",
        "\n",
        "###Answer: Linear regression is sensitive to outliers. (The slope or gradient of the regression line will change due to outliers in most of the cases hence Linear Regression is definately sensitive to outliers.)"
      ]
    },
    {
      "cell_type": "markdown",
      "metadata": {
        "id": "9h8dWceX0MP0",
        "colab_type": "text"
      },
      "source": [
        "###Question 7: How many coefficients do you need to estimate a simple linear regression model(One, independent variable)?\n",
        "\n",
        "###Answer: 2. (y = mx + c) where m and c are the coefficients of regression."
      ]
    },
    {
      "cell_type": "markdown",
      "metadata": {
        "id": "KFUn66G80iSF",
        "colab_type": "text"
      },
      "source": [
        "###Question 8: Adding more bias functions in a linear model:\n",
        "\n",
        "###Answer: Decreases model bias."
      ]
    },
    {
      "cell_type": "markdown",
      "metadata": {
        "id": "Iqqvs5uG0__T",
        "colab_type": "text"
      },
      "source": [
        "###Question 9: A best fit line relating X and Y has a R-squared value of 0.75. How do I interpret this information?\n",
        "\n",
        "###Answer: 75% of the variance in Y is explained by X."
      ]
    },
    {
      "cell_type": "markdown",
      "metadata": {
        "id": "C5e1isRN116a",
        "colab_type": "text"
      },
      "source": [
        "###Question 10: The Lasso can be interpreted as least-squares regression where:\n",
        "\n",
        "###Answer: Weights are regularized with the L1 norm."
      ]
    },
    {
      "cell_type": "markdown",
      "metadata": {
        "id": "4tog2MKd2v5P",
        "colab_type": "text"
      },
      "source": [
        "###Question 11: Which of these assumptions of Linear Regression?\n",
        "\n",
        "###Answer: Multivariate normality"
      ]
    },
    {
      "cell_type": "markdown",
      "metadata": {
        "id": "dajzvT-c3tb9",
        "colab_type": "text"
      },
      "source": [
        "###Question 12: From the dataset, fit a linear model on the relationship between the temperature in the living room in Celsius (x = T2) and the temperature outside the building (y = T6). What is the R^2 value in two D.P?\n",
        "\n",
        "###Answer: 0.64\n"
      ]
    },
    {
      "cell_type": "code",
      "metadata": {
        "id": "YzX0uMep8LPp",
        "colab_type": "code",
        "colab": {
          "base_uri": "https://localhost:8080/",
          "height": 34
        },
        "outputId": "af5bbcbe-7641-4814-8978-1fc319489a1b"
      },
      "source": [
        "# Obtaining the Training set of the T2 and T6 columns from the normalised data\n",
        "train_x = X_train[['T2']]\n",
        "train_y = X_train[['T6']]\n",
        "\n",
        "# Obtaining the Testing set of the T2 and T6 column from the normalised data  \n",
        "test_x = X_test[['T2']]\n",
        "test_y = X_test[['T6']]\n",
        "\n",
        "# Instantiate the LinearRegression model\n",
        "model = LinearRegression()\n",
        "\n",
        "# Fit the model with training set\n",
        "model.fit(train_x, train_y)\n",
        "\n",
        "# Make predictions on test set\n",
        "prediction = model.predict(test_x)\n",
        "\n",
        "\n",
        "#Compute the r2_score on test set\n",
        "R2_score = round(r2_score(test_y, prediction), 2)\n",
        "R2_score"
      ],
      "execution_count": 94,
      "outputs": [
        {
          "output_type": "execute_result",
          "data": {
            "text/plain": [
              "0.64"
            ]
          },
          "metadata": {
            "tags": []
          },
          "execution_count": 94
        }
      ]
    },
    {
      "cell_type": "markdown",
      "metadata": {
        "id": "gFMkgXGm8ryM",
        "colab_type": "text"
      },
      "source": [
        "###Question 13: What is the mean absolute error\n",
        "\n",
        "###Answer: 0.05\n"
      ]
    },
    {
      "cell_type": "code",
      "metadata": {
        "id": "btBzaR30szvw",
        "colab_type": "code",
        "colab": {}
      },
      "source": [
        "# Lets instantiate the general LinearRegression Model to answer questions 13 - 17\n",
        "\n",
        "# Instantiate the LinearRegression Model\n",
        "lin_reg = LinearRegression()\n",
        "\n",
        "# fit the model with training set\n",
        "lin_reg.fit(X_train, y_train)\n",
        "\n",
        "# Make predictions on testing set\n",
        "y_pred = lin_reg.predict(X_test)"
      ],
      "execution_count": 96,
      "outputs": []
    },
    {
      "cell_type": "code",
      "metadata": {
        "id": "M605DFG89c6C",
        "colab_type": "code",
        "colab": {
          "base_uri": "https://localhost:8080/",
          "height": 34
        },
        "outputId": "e1ac43bd-b535-4014-e4b2-5a848bbe7369"
      },
      "source": [
        "# Computing the Mean_absolute_error\n",
        "MAE = round(mean_absolute_error(y_test, y_pred), 2)\n",
        "\n",
        "MAE"
      ],
      "execution_count": 97,
      "outputs": [
        {
          "output_type": "execute_result",
          "data": {
            "text/plain": [
              "0.05"
            ]
          },
          "metadata": {
            "tags": []
          },
          "execution_count": 97
        }
      ]
    },
    {
      "cell_type": "markdown",
      "metadata": {
        "id": "f1QvsbCD-G0S",
        "colab_type": "text"
      },
      "source": [
        "###Question 14: What is the Residual Sum of Squares(in two decimal places)\n",
        "\n",
        "###Answer: 45.35\n"
      ]
    },
    {
      "cell_type": "code",
      "metadata": {
        "id": "FEo_LPVRrNEW",
        "colab_type": "code",
        "colab": {
          "base_uri": "https://localhost:8080/",
          "height": 34
        },
        "outputId": "418b931a-8e56-4b1d-f176-8d26999dd901"
      },
      "source": [
        "# Computing the Residual Sum of Squares in 2D.p\n",
        "RSS = round(np.sum(np.square(y_test - y_pred)), 2)\n",
        "\n",
        "RSS"
      ],
      "execution_count": 100,
      "outputs": [
        {
          "output_type": "execute_result",
          "data": {
            "text/plain": [
              "45.35"
            ]
          },
          "metadata": {
            "tags": []
          },
          "execution_count": 100
        }
      ]
    },
    {
      "cell_type": "markdown",
      "metadata": {
        "id": "EAA98SJh-stH",
        "colab_type": "text"
      },
      "source": [
        "###Question 15: What is the Root Mean Suared Error(in three decimal places)\n",
        "\n",
        "###Answer: 0.088"
      ]
    },
    {
      "cell_type": "code",
      "metadata": {
        "id": "x9FXw9zftzdi",
        "colab_type": "code",
        "colab": {
          "base_uri": "https://localhost:8080/",
          "height": 34
        },
        "outputId": "397f2a9d-f2e2-4b39-8f3d-895bdb3283b4"
      },
      "source": [
        "RMSE = round(np.sqrt(mean_squared_error(y_test, y_pred)), 3)\n",
        "\n",
        "RMSE"
      ],
      "execution_count": 103,
      "outputs": [
        {
          "output_type": "execute_result",
          "data": {
            "text/plain": [
              "0.088"
            ]
          },
          "metadata": {
            "tags": []
          },
          "execution_count": 103
        }
      ]
    },
    {
      "cell_type": "markdown",
      "metadata": {
        "id": "1BBDzBgj_FNw",
        "colab_type": "text"
      },
      "source": [
        "###Question 16: What is the Coefficient of Determination(in two decimal places)\n",
        "\n",
        "###Answer: 0.15"
      ]
    },
    {
      "cell_type": "code",
      "metadata": {
        "id": "rri5clrvuUFp",
        "colab_type": "code",
        "colab": {
          "base_uri": "https://localhost:8080/",
          "height": 34
        },
        "outputId": "99b9e022-17e6-46de-ca5e-d68f9ed8964a"
      },
      "source": [
        "# Computing the r2_score\n",
        "R2_score = r2_score(y_test, y_pred)\n",
        "round(R2_score, 2)"
      ],
      "execution_count": 104,
      "outputs": [
        {
          "output_type": "execute_result",
          "data": {
            "text/plain": [
              "0.15"
            ]
          },
          "metadata": {
            "tags": []
          },
          "execution_count": 104
        }
      ]
    },
    {
      "cell_type": "markdown",
      "metadata": {
        "id": "numfnUDa_ehT",
        "colab_type": "text"
      },
      "source": [
        "###Question 17: Obtain the feature weights from your linear model above. Which features have the lowest and highest weights respectively?\n",
        "\n",
        "###Answer: We can see from the Table below that the features with the lowest and highest weights are RH_2, RH_1 respectively."
      ]
    },
    {
      "cell_type": "code",
      "metadata": {
        "id": "BEJK7OeLlmDK",
        "colab_type": "code",
        "colab": {
          "base_uri": "https://localhost:8080/",
          "height": 827
        },
        "outputId": "b540e50d-b6d9-4c0d-f252-ed82809cbbed"
      },
      "source": [
        "def get_weights_df(model, feat, col_name):\n",
        "  #this function returns the weight of every feature\n",
        "  weights = pd.Series(model.coef_, feat.columns).sort_values()\n",
        "  weights_df = pd.DataFrame(weights).reset_index()\n",
        "  weights_df.columns = ['Features', col_name]\n",
        "  weights_df[col_name].round(3)\n",
        "  return weights_df\n",
        "\n",
        "# Execute the get_weight function and store in dataframe\n",
        "linear_weights_df = get_weights_df(lin_reg, X_train, 'Linear_weight')\n",
        "\n",
        "linear_weights_df"
      ],
      "execution_count": 148,
      "outputs": [
        {
          "output_type": "execute_result",
          "data": {
            "text/html": [
              "<div>\n",
              "<style scoped>\n",
              "    .dataframe tbody tr th:only-of-type {\n",
              "        vertical-align: middle;\n",
              "    }\n",
              "\n",
              "    .dataframe tbody tr th {\n",
              "        vertical-align: top;\n",
              "    }\n",
              "\n",
              "    .dataframe thead th {\n",
              "        text-align: right;\n",
              "    }\n",
              "</style>\n",
              "<table border=\"1\" class=\"dataframe\">\n",
              "  <thead>\n",
              "    <tr style=\"text-align: right;\">\n",
              "      <th></th>\n",
              "      <th>Features</th>\n",
              "      <th>Linear_weight</th>\n",
              "    </tr>\n",
              "  </thead>\n",
              "  <tbody>\n",
              "    <tr>\n",
              "      <th>0</th>\n",
              "      <td>RH_2</td>\n",
              "      <td>-0.456698</td>\n",
              "    </tr>\n",
              "    <tr>\n",
              "      <th>1</th>\n",
              "      <td>T_out</td>\n",
              "      <td>-0.321860</td>\n",
              "    </tr>\n",
              "    <tr>\n",
              "      <th>2</th>\n",
              "      <td>T2</td>\n",
              "      <td>-0.236178</td>\n",
              "    </tr>\n",
              "    <tr>\n",
              "      <th>3</th>\n",
              "      <td>T9</td>\n",
              "      <td>-0.189941</td>\n",
              "    </tr>\n",
              "    <tr>\n",
              "      <th>4</th>\n",
              "      <td>RH_8</td>\n",
              "      <td>-0.157595</td>\n",
              "    </tr>\n",
              "    <tr>\n",
              "      <th>5</th>\n",
              "      <td>RH_out</td>\n",
              "      <td>-0.077671</td>\n",
              "    </tr>\n",
              "    <tr>\n",
              "      <th>6</th>\n",
              "      <td>RH_7</td>\n",
              "      <td>-0.044614</td>\n",
              "    </tr>\n",
              "    <tr>\n",
              "      <th>7</th>\n",
              "      <td>RH_9</td>\n",
              "      <td>-0.039800</td>\n",
              "    </tr>\n",
              "    <tr>\n",
              "      <th>8</th>\n",
              "      <td>T5</td>\n",
              "      <td>-0.015657</td>\n",
              "    </tr>\n",
              "    <tr>\n",
              "      <th>9</th>\n",
              "      <td>T1</td>\n",
              "      <td>-0.003281</td>\n",
              "    </tr>\n",
              "    <tr>\n",
              "      <th>10</th>\n",
              "      <td>rv1</td>\n",
              "      <td>0.000770</td>\n",
              "    </tr>\n",
              "    <tr>\n",
              "      <th>11</th>\n",
              "      <td>rv2</td>\n",
              "      <td>0.000770</td>\n",
              "    </tr>\n",
              "    <tr>\n",
              "      <th>12</th>\n",
              "      <td>Press_mm_hg</td>\n",
              "      <td>0.006839</td>\n",
              "    </tr>\n",
              "    <tr>\n",
              "      <th>13</th>\n",
              "      <td>T7</td>\n",
              "      <td>0.010319</td>\n",
              "    </tr>\n",
              "    <tr>\n",
              "      <th>14</th>\n",
              "      <td>Visibility</td>\n",
              "      <td>0.012307</td>\n",
              "    </tr>\n",
              "    <tr>\n",
              "      <th>15</th>\n",
              "      <td>RH_5</td>\n",
              "      <td>0.016006</td>\n",
              "    </tr>\n",
              "    <tr>\n",
              "      <th>16</th>\n",
              "      <td>RH_4</td>\n",
              "      <td>0.026386</td>\n",
              "    </tr>\n",
              "    <tr>\n",
              "      <th>17</th>\n",
              "      <td>T4</td>\n",
              "      <td>0.028981</td>\n",
              "    </tr>\n",
              "    <tr>\n",
              "      <th>18</th>\n",
              "      <td>Windspeed</td>\n",
              "      <td>0.029183</td>\n",
              "    </tr>\n",
              "    <tr>\n",
              "      <th>19</th>\n",
              "      <td>RH_6</td>\n",
              "      <td>0.038049</td>\n",
              "    </tr>\n",
              "    <tr>\n",
              "      <th>20</th>\n",
              "      <td>RH_3</td>\n",
              "      <td>0.096048</td>\n",
              "    </tr>\n",
              "    <tr>\n",
              "      <th>21</th>\n",
              "      <td>T8</td>\n",
              "      <td>0.101995</td>\n",
              "    </tr>\n",
              "    <tr>\n",
              "      <th>22</th>\n",
              "      <td>Tdewpoint</td>\n",
              "      <td>0.117758</td>\n",
              "    </tr>\n",
              "    <tr>\n",
              "      <th>23</th>\n",
              "      <td>T6</td>\n",
              "      <td>0.236425</td>\n",
              "    </tr>\n",
              "    <tr>\n",
              "      <th>24</th>\n",
              "      <td>T3</td>\n",
              "      <td>0.290627</td>\n",
              "    </tr>\n",
              "    <tr>\n",
              "      <th>25</th>\n",
              "      <td>RH_1</td>\n",
              "      <td>0.553547</td>\n",
              "    </tr>\n",
              "  </tbody>\n",
              "</table>\n",
              "</div>"
            ],
            "text/plain": [
              "       Features  Linear_weight\n",
              "0          RH_2      -0.456698\n",
              "1         T_out      -0.321860\n",
              "2            T2      -0.236178\n",
              "3            T9      -0.189941\n",
              "4          RH_8      -0.157595\n",
              "5        RH_out      -0.077671\n",
              "6          RH_7      -0.044614\n",
              "7          RH_9      -0.039800\n",
              "8            T5      -0.015657\n",
              "9            T1      -0.003281\n",
              "10          rv1       0.000770\n",
              "11          rv2       0.000770\n",
              "12  Press_mm_hg       0.006839\n",
              "13           T7       0.010319\n",
              "14   Visibility       0.012307\n",
              "15         RH_5       0.016006\n",
              "16         RH_4       0.026386\n",
              "17           T4       0.028981\n",
              "18    Windspeed       0.029183\n",
              "19         RH_6       0.038049\n",
              "20         RH_3       0.096048\n",
              "21           T8       0.101995\n",
              "22    Tdewpoint       0.117758\n",
              "23           T6       0.236425\n",
              "24           T3       0.290627\n",
              "25         RH_1       0.553547"
            ]
          },
          "metadata": {
            "tags": []
          },
          "execution_count": 148
        }
      ]
    },
    {
      "cell_type": "markdown",
      "metadata": {
        "id": "4gKWm51EAlNe",
        "colab_type": "text"
      },
      "source": [
        "###Question 18: Train a Ridge Regression model with an alpha value of 0.4. Is there any change to the root mean squared error(RMSE) when evaluated on the test set?\n",
        "\n",
        "###Answer: From the calculations below, there are no differences, hence the answer is No."
      ]
    },
    {
      "cell_type": "code",
      "metadata": {
        "id": "Jebyg_G0u0zp",
        "colab_type": "code",
        "colab": {
          "base_uri": "https://localhost:8080/",
          "height": 70
        },
        "outputId": "bcc36ef4-68e9-4311-c804-e06a5f088d40"
      },
      "source": [
        "# Instantuate ridge model with default aplha value\n",
        "ridge = Ridge()\n",
        "\n",
        "# Fitting the ridge model with training set\n",
        "ridge.fit(X_train, y_train)\n",
        "\n",
        "# making predictions on test set\n",
        "pred = ridge.predict(X_test)\n",
        "\n",
        "ridge_rmse = round(np.sqrt(mean_squared_error(y_test, pred)), 3)\n",
        "\n",
        "print(f'The RMSE score for the rigde model with default aplha value when evaluated on the test set is: {ridge_rmse}')\n",
        "\n",
        "\n",
        "# Instantiate another ridge model with aplha value set to 0.4\n",
        "ridge_reg = Ridge(alpha=0.4)\n",
        "\n",
        "# fit on traing set\n",
        "ridge_reg.fit(X_train, y_train)\n",
        "\n",
        "# Make new predictions on test set\n",
        "new_pred = ridge_reg.predict(X_test)\n",
        "\n",
        "ridge_rmse_new = round(np.sqrt(mean_squared_error(y_test, new_pred)), 3)\n",
        "\n",
        "print(f'The RMSE score for the rigde model with default aplha value when evaluated on the test set is: {ridge_rmse_new}')\n",
        "\n",
        "print('There is no change in the RMSE scores')"
      ],
      "execution_count": 109,
      "outputs": [
        {
          "output_type": "stream",
          "text": [
            "The RMSE score for the rigde model with default aplha value when evaluated on the test set is: 0.088\n",
            "The RMSE score for the rigde model with default aplha value when evaluated on the test set is: 0.088\n",
            "There is no change in the RMSE scores\n"
          ],
          "name": "stdout"
        }
      ]
    },
    {
      "cell_type": "markdown",
      "metadata": {
        "id": "2nkw8QDhCyW1",
        "colab_type": "text"
      },
      "source": [
        "###Question 19: Train a Lasso regression model with an aplha value of 0.001 and obtain the new feature weights with it. How many of the features have non-zero feature weights?\n",
        "\n",
        "###Answer: 4\n",
        "\n"
      ]
    },
    {
      "cell_type": "code",
      "metadata": {
        "id": "zOo--eyvoRFl",
        "colab_type": "code",
        "colab": {
          "base_uri": "https://localhost:8080/",
          "height": 141
        },
        "outputId": "1ec42427-6859-4867-ed42-4bb957dd2fb2"
      },
      "source": [
        "# Instatiate a lasso regressor with alpha value of 0.001\n",
        "lasso_reg = Lasso(alpha=0.001)\n",
        "\n",
        "# Fit the lasso model with training set\n",
        "lasso_reg.fit(X_train, y_train)\n",
        "\n",
        "# Make predictions on test set\n",
        "lasso_preds = lasso_reg.predict(X_test)\n",
        "\n",
        "# defining a function to get weights\n",
        "def get_weights_df(model, feat, col_name):\n",
        "  #this function returns the weight of every feature\n",
        "  weights = pd.Series(model.coef_, feat.columns).sort_values()\n",
        "  weights_df = pd.DataFrame(weights).reset_index()\n",
        "  weights_df.columns = ['Features', col_name]\n",
        "  weights_df[col_name].round(3)\n",
        "  return weights_df\n",
        "\n",
        "lasso_weights_df = get_weights_df(lasso_reg, X_train, 'Lasso_weight')\n",
        "\n",
        "# Lets obtain the dataFrame with non-zero feature weights\n",
        "non_zero_weights = lasso_weights_df[lasso_weights_df['Lasso_weight'] != 0]\n",
        "\n",
        "# view non_zero dataframe\n",
        "print(non_zero_weights)\n",
        "\n",
        "print('')\n",
        "\n",
        "# print the total number of non_zero weights\n",
        "print(f'The total features with non-zero feature weights are equal to: {len(non_zero_weights)}')"
      ],
      "execution_count": 127,
      "outputs": [
        {
          "output_type": "stream",
          "text": [
            "     Features  Lasso_weight\n",
            "0      RH_out     -0.049557\n",
            "1        RH_8     -0.000110\n",
            "24  Windspeed      0.002912\n",
            "25       RH_1      0.017880\n",
            "\n",
            "The total features with non-zero feature weights are equal to: 4\n"
          ],
          "name": "stdout"
        }
      ]
    },
    {
      "cell_type": "markdown",
      "metadata": {
        "id": "cDxpG-IlFzCy",
        "colab_type": "text"
      },
      "source": [
        "###Question 20: What is the new RMSE with Lasso Regression (in 3 decimal places)\n",
        "\n",
        "###Answer: 0.094"
      ]
    },
    {
      "cell_type": "code",
      "metadata": {
        "id": "EOaHL0CGkk0i",
        "colab_type": "code",
        "colab": {
          "base_uri": "https://localhost:8080/",
          "height": 34
        },
        "outputId": "98459859-f0ca-4967-9f6e-72430fe3f7ff"
      },
      "source": [
        "# Compute the new RMSE with lasso regression\n",
        "RMSE_new = round(np.sqrt(mean_squared_error(y_test, lasso_preds)), 3)\n",
        "\n",
        "RMSE_new"
      ],
      "execution_count": 149,
      "outputs": [
        {
          "output_type": "execute_result",
          "data": {
            "text/plain": [
              "0.094"
            ]
          },
          "metadata": {
            "tags": []
          },
          "execution_count": 149
        }
      ]
    }
  ]
}